{
 "cells": [
  {
   "cell_type": "code",
   "execution_count": null,
   "metadata": {},
   "outputs": [
    {
     "name": "stdout",
     "output_type": "stream",
     "text": [
      "Correlation matrix of PC scores:\n",
      " [[ 1.00000000e+00 -8.35165202e-17  1.64908742e-16]\n",
      " [-8.35165202e-17  1.00000000e+00 -8.66421120e-17]\n",
      " [ 1.64908742e-16 -8.66421120e-17  1.00000000e+00]]\n",
      "\n",
      "All off-diagonal correlations are effectively zero!\n"
     ]
    }
   ],
   "source": [
    "import numpy as np\n",
    "from sklearn.decomposition import PCA\n",
    "\n",
    "# Generate sample data\n",
    "np.random.seed(0)\n",
    "X = np.random.randn(100, 3)  # 100 samples, 3 features\n",
    "X = X - X.mean(axis=0)       # Center the data\n",
    "\n",
    "# Compute PCA using covariance matrix\n",
    "pca = PCA()\n",
    "Y = pca.fit_transform(X)     # PC scores\n",
    "\n",
    "# Check correlation between PC scores\n",
    "correlation_matrix = np.corrcoef(Y, rowvar=False)\n",
    "print(\"Correlation matrix of PC scores:\\n\", correlation_matrix)\n",
    "\n",
    "# Verify off-diagonal entries are near zero\n",
    "assert np.allclose(np.diag(np.diag(correlation_matrix)), correlation_matrix, atol=1e-10)\n",
    "print(\"\\nAll off-diagonal correlations are effectively zero!\")"
   ]
  }
 ],
 "metadata": {
  "kernelspec": {
   "display_name": "Python 3",
   "language": "python",
   "name": "python3"
  },
  "language_info": {
   "codemirror_mode": {
    "name": "ipython",
    "version": 3
   },
   "file_extension": ".py",
   "mimetype": "text/x-python",
   "name": "python",
   "nbconvert_exporter": "python",
   "pygments_lexer": "ipython3",
   "version": "3.12.0"
  }
 },
 "nbformat": 4,
 "nbformat_minor": 2
}
