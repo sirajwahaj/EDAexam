{
 "cells": [
  {
   "cell_type": "code",
   "execution_count": 38,
   "metadata": {},
   "outputs": [],
   "source": [
    "import numpy as np\n",
    "from scipy.spatial.distance import pdist, squareform\n",
    "import scipy.io"
   ]
  },
  {
   "cell_type": "code",
   "execution_count": 39,
   "metadata": {},
   "outputs": [],
   "source": [
    "\n",
    "def minkowski_distance(X, p):\n",
    "    return squareform(pdist(X, metric='minkowski', p=p))\n"
   ]
  },
  {
   "cell_type": "code",
   "execution_count": 40,
   "metadata": {},
   "outputs": [],
   "source": [
    "def stress_function(X, delta, p):\n",
    "    d_X = minkowski_distance(X, p)\n",
    "    mask = d_X != 0\n",
    "    stress = np.sum(((d_X - delta) * mask) ** 2)\n",
    "    return stress\n"
   ]
  },
  {
   "cell_type": "code",
   "execution_count": 41,
   "metadata": {},
   "outputs": [],
   "source": [
    "def guttman_transform(X, delta, p):\n",
    "    d_X = minkowski_distance(X, p)\n",
    "    B = np.zeros_like(d_X)\n",
    "    \n",
    "    mask = d_X != 0\n",
    "    B[mask] = -delta[mask] / d_X[mask]\n",
    "    \n",
    "    np.fill_diagonal(B, -np.sum(B, axis=1))\n",
    "    X_new = (1 / len(X)) * (B @ X)\n",
    "    return X_new\n",
    "\n"
   ]
  },
  {
   "cell_type": "code",
   "execution_count": 42,
   "metadata": {},
   "outputs": [],
   "source": [
    "def smacof(X, delta, p, epsilon=1e-6, max_iter=300):\n",
    "    stress_old = stress_function(X, delta, p)\n",
    "    for _ in range(max_iter):\n",
    "        X_new = guttman_transform(X, delta, p)\n",
    "        stress_new = stress_function(X_new, delta, p)\n",
    "        \n",
    "        if abs(stress_new - stress_old) < epsilon:\n",
    "            break\n",
    "        stress_old = stress_new\n",
    "        X = X_new\n",
    "    \n",
    "    return X, stress_new\n"
   ]
  },
  {
   "cell_type": "code",
   "execution_count": 43,
   "metadata": {},
   "outputs": [
    {
     "data": {
      "text/plain": [
       "dict_keys(['__header__', '__version__', '__globals__', 'geneinfo', 'cancertype', 'btcell', 'leukemia'])"
      ]
     },
     "execution_count": 43,
     "metadata": {},
     "output_type": "execute_result"
    }
   ],
   "source": [
    "df = scipy.io.loadmat('datasets/leukemia.mat')\n",
    "df.keys()"
   ]
  },
  {
   "cell_type": "code",
   "execution_count": 44,
   "metadata": {},
   "outputs": [
    {
     "data": {
      "text/plain": [
       "{'geneinfo': (51, 2),\n",
       " 'cancertype': (72, 1),\n",
       " 'btcell': (72, 1),\n",
       " 'leukemia': (50, 72)}"
      ]
     },
     "execution_count": 44,
     "metadata": {},
     "output_type": "execute_result"
    }
   ],
   "source": [
    "dataset_info = {key: value.shape for key, value in df.items() if isinstance(value, np.ndarray)}\n",
    "dataset_info"
   ]
  },
  {
   "cell_type": "code",
   "execution_count": 45,
   "metadata": {},
   "outputs": [
    {
     "name": "stdout",
     "output_type": "stream",
     "text": [
      "p = 1.5: Final stress = 43512054232.94126\n",
      "p = 2: Final stress = 43884313224.96434\n",
      "p = 7: Final stress = 52751705362.38033\n"
     ]
    }
   ],
   "source": [
    "data_matrix = df['leukemia']  \n",
    "\n",
    "# Compute dissimilarity matrix using Minkowski distance\n",
    "delta = squareform(pdist(data_matrix, metric='minkowski', p=2))  # Default p=2 for Euclidean\n",
    "\n",
    "X_init = np.random.rand(delta.shape[0], 2)  # Initial random configuration\n",
    "\n",
    "for p in [1.5, 2, 7]:\n",
    "    X_final, stress = smacof(X_init, delta, p)\n",
    "    print(f\"p = {p}: Final stress = {stress}\")\n"
   ]
  }
 ],
 "metadata": {
  "kernelspec": {
   "display_name": "Python 3",
   "language": "python",
   "name": "python3"
  },
  "language_info": {
   "codemirror_mode": {
    "name": "ipython",
    "version": 3
   },
   "file_extension": ".py",
   "mimetype": "text/x-python",
   "name": "python",
   "nbconvert_exporter": "python",
   "pygments_lexer": "ipython3",
   "version": "3.12.0"
  }
 },
 "nbformat": 4,
 "nbformat_minor": 2
}
