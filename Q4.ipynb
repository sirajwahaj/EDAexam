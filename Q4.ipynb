{
 "cells": [
  {
   "cell_type": "code",
   "execution_count": 76,
   "metadata": {},
   "outputs": [],
   "source": [
    "import pandas as pd\n",
    "import numpy as np\n",
    "from sklearn.cluster import AgglomerativeClustering, KMeans as SKLearnKMeans\n",
    "from sklearn.metrics import silhouette_score\n",
    "from scipy.spatial.distance import pdist\n",
    "from sklearn.metrics import pairwise_distances"
   ]
  },
  {
   "cell_type": "code",
   "execution_count": 77,
   "metadata": {},
   "outputs": [],
   "source": [
    "EU_in = pd.read_csv('datasets/inflation.csv')  # Replace with the actual file name\n",
    "EU_un = pd.read_csv('datasets/unemployment.csv')  # Replace with the actual file name\n",
    "\n",
    "EU_in_cleaned = EU_in[['geo', 'TIME_PERIOD', 'OBS_VALUE']].rename(columns={'geo': 'Country', 'TIME_PERIOD': 'Year', 'OBS_VALUE': 'Inflation'})\n",
    "EU_un_cleaned = EU_un[['geo', 'TIME_PERIOD', 'OBS_VALUE']].rename(columns={'geo': 'Country', 'TIME_PERIOD': 'Year', 'OBS_VALUE': 'Unemployment'})\n"
   ]
  },
  {
   "cell_type": "code",
   "execution_count": 78,
   "metadata": {},
   "outputs": [
    {
     "data": {
      "text/html": [
       "<div>\n",
       "<style scoped>\n",
       "    .dataframe tbody tr th:only-of-type {\n",
       "        vertical-align: middle;\n",
       "    }\n",
       "\n",
       "    .dataframe tbody tr th {\n",
       "        vertical-align: top;\n",
       "    }\n",
       "\n",
       "    .dataframe thead th {\n",
       "        text-align: right;\n",
       "    }\n",
       "</style>\n",
       "<table border=\"1\" class=\"dataframe\">\n",
       "  <thead>\n",
       "    <tr style=\"text-align: right;\">\n",
       "      <th></th>\n",
       "      <th>Country</th>\n",
       "      <th>Year</th>\n",
       "      <th>Unemployment</th>\n",
       "    </tr>\n",
       "  </thead>\n",
       "  <tbody>\n",
       "    <tr>\n",
       "      <th>0</th>\n",
       "      <td>Austria</td>\n",
       "      <td>2015</td>\n",
       "      <td>6.1</td>\n",
       "    </tr>\n",
       "    <tr>\n",
       "      <th>1</th>\n",
       "      <td>Austria</td>\n",
       "      <td>2016</td>\n",
       "      <td>6.5</td>\n",
       "    </tr>\n",
       "    <tr>\n",
       "      <th>2</th>\n",
       "      <td>Austria</td>\n",
       "      <td>2017</td>\n",
       "      <td>5.9</td>\n",
       "    </tr>\n",
       "    <tr>\n",
       "      <th>3</th>\n",
       "      <td>Austria</td>\n",
       "      <td>2018</td>\n",
       "      <td>5.2</td>\n",
       "    </tr>\n",
       "    <tr>\n",
       "      <th>4</th>\n",
       "      <td>Austria</td>\n",
       "      <td>2019</td>\n",
       "      <td>4.8</td>\n",
       "    </tr>\n",
       "  </tbody>\n",
       "</table>\n",
       "</div>"
      ],
      "text/plain": [
       "   Country  Year  Unemployment\n",
       "0  Austria  2015           6.1\n",
       "1  Austria  2016           6.5\n",
       "2  Austria  2017           5.9\n",
       "3  Austria  2018           5.2\n",
       "4  Austria  2019           4.8"
      ]
     },
     "execution_count": 78,
     "metadata": {},
     "output_type": "execute_result"
    }
   ],
   "source": [
    "EU_in_cleaned.head()\n",
    "EU_un_cleaned.head()"
   ]
  },
  {
   "cell_type": "code",
   "execution_count": 79,
   "metadata": {},
   "outputs": [
    {
     "data": {
      "text/html": [
       "<div>\n",
       "<style scoped>\n",
       "    .dataframe tbody tr th:only-of-type {\n",
       "        vertical-align: middle;\n",
       "    }\n",
       "\n",
       "    .dataframe tbody tr th {\n",
       "        vertical-align: top;\n",
       "    }\n",
       "\n",
       "    .dataframe thead th {\n",
       "        text-align: right;\n",
       "    }\n",
       "</style>\n",
       "<table border=\"1\" class=\"dataframe\">\n",
       "  <thead>\n",
       "    <tr style=\"text-align: right;\">\n",
       "      <th></th>\n",
       "      <th>Country</th>\n",
       "      <th>Year</th>\n",
       "      <th>Inflation</th>\n",
       "      <th>Unemployment</th>\n",
       "    </tr>\n",
       "  </thead>\n",
       "  <tbody>\n",
       "    <tr>\n",
       "      <th>0</th>\n",
       "      <td>Austria</td>\n",
       "      <td>2015</td>\n",
       "      <td>0.8</td>\n",
       "      <td>6.1</td>\n",
       "    </tr>\n",
       "    <tr>\n",
       "      <th>1</th>\n",
       "      <td>Austria</td>\n",
       "      <td>2016</td>\n",
       "      <td>1.0</td>\n",
       "      <td>6.5</td>\n",
       "    </tr>\n",
       "    <tr>\n",
       "      <th>2</th>\n",
       "      <td>Austria</td>\n",
       "      <td>2017</td>\n",
       "      <td>2.2</td>\n",
       "      <td>5.9</td>\n",
       "    </tr>\n",
       "    <tr>\n",
       "      <th>3</th>\n",
       "      <td>Austria</td>\n",
       "      <td>2018</td>\n",
       "      <td>2.1</td>\n",
       "      <td>5.2</td>\n",
       "    </tr>\n",
       "    <tr>\n",
       "      <th>4</th>\n",
       "      <td>Austria</td>\n",
       "      <td>2019</td>\n",
       "      <td>1.5</td>\n",
       "      <td>4.8</td>\n",
       "    </tr>\n",
       "  </tbody>\n",
       "</table>\n",
       "</div>"
      ],
      "text/plain": [
       "   Country  Year  Inflation  Unemployment\n",
       "0  Austria  2015        0.8           6.1\n",
       "1  Austria  2016        1.0           6.5\n",
       "2  Austria  2017        2.2           5.9\n",
       "3  Austria  2018        2.1           5.2\n",
       "4  Austria  2019        1.5           4.8"
      ]
     },
     "execution_count": 79,
     "metadata": {},
     "output_type": "execute_result"
    }
   ],
   "source": [
    "\n",
    "EU_in_un = pd.merge(EU_in_cleaned, EU_un_cleaned, on=['Country', 'Year'])\n",
    "EU_in_un.head()"
   ]
  },
  {
   "cell_type": "code",
   "execution_count": 80,
   "metadata": {},
   "outputs": [
    {
     "name": "stdout",
     "output_type": "stream",
     "text": [
      "Silhouette Score for Hierarchical Clustering: 0.39511226784796655\n"
     ]
    }
   ],
   "source": [
    "unemployment_data = EU_un_cleaned.pivot(index='Country', columns='Year', values='Unemployment').fillna(0).values\n",
    "hierarchical_clustering = AgglomerativeClustering(n_clusters=3, linkage='ward')\n",
    "labels_hierarchical = hierarchical_clustering.fit_predict(unemployment_data)\n",
    "\n",
    "# Evaluate using Silhouette score\n",
    "silhouette_avg = silhouette_score(unemployment_data, labels_hierarchical)\n",
    "print(f\"Silhouette Score for Hierarchical Clustering: {silhouette_avg}\")"
   ]
  },
  {
   "cell_type": "code",
   "execution_count": 81,
   "metadata": {},
   "outputs": [],
   "source": [
    "def dunn_index(data, labels):\n",
    "    distances = pairwise_distances(data)\n",
    "    intra_cluster_distances = []\n",
    "    inter_cluster_distances = []\n",
    "\n",
    "    for label in np.unique(labels):\n",
    "        cluster_points = data[labels == label]\n",
    "        intra_cluster_distances.append(np.max(pdist(cluster_points)) if len(cluster_points) > 1 else 0)\n",
    "\n",
    "    for i, label_i in enumerate(np.unique(labels)):\n",
    "        for j, label_j in enumerate(np.unique(labels)):\n",
    "            if i < j:\n",
    "                cluster_i_points = data[labels == label_i]\n",
    "                cluster_j_points = data[labels == label_j]\n",
    "                inter_cluster_distances.append(np.min(pairwise_distances(cluster_i_points, cluster_j_points)))\n",
    "\n",
    "    return np.min(inter_cluster_distances) / np.max(intra_cluster_distances)"
   ]
  },
  {
   "cell_type": "code",
   "execution_count": 82,
   "metadata": {},
   "outputs": [
    {
     "name": "stdout",
     "output_type": "stream",
     "text": [
      "Dunn Index for K-Means Clustering: 0.021939030086455955\n"
     ]
    }
   ],
   "source": [
    "joint_data = EU_in_un[['Inflation', 'Unemployment']].values\n",
    "kmeans = SKLearnKMeans(n_clusters=3, random_state=42)\n",
    "labels_kmeans = kmeans.fit_predict(joint_data)\n",
    "\n",
    "\n",
    "dunn_index_value = dunn_index(joint_data, labels_kmeans)\n",
    "print(f\"Dunn Index for K-Means Clustering: {dunn_index_value}\")\n"
   ]
  }
 ],
 "metadata": {
  "kernelspec": {
   "display_name": "Python 3",
   "language": "python",
   "name": "python3"
  },
  "language_info": {
   "codemirror_mode": {
    "name": "ipython",
    "version": 3
   },
   "file_extension": ".py",
   "mimetype": "text/x-python",
   "name": "python",
   "nbconvert_exporter": "python",
   "pygments_lexer": "ipython3",
   "version": "3.12.0"
  }
 },
 "nbformat": 4,
 "nbformat_minor": 2
}
